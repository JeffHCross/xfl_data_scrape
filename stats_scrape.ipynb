{
  "nbformat": 4,
  "nbformat_minor": 0,
  "metadata": {
    "colab": {
      "provenance": [],
      "authorship_tag": "ABX9TyPAhW0CfKuD9bYDa8/HwroR",
      "include_colab_link": true
    },
    "kernelspec": {
      "name": "python3",
      "display_name": "Python 3"
    },
    "language_info": {
      "name": "python"
    }
  },
  "cells": [
    {
      "cell_type": "markdown",
      "metadata": {
        "id": "view-in-github",
        "colab_type": "text"
      },
      "source": [
        "<a href=\"https://colab.research.google.com/github/JeffHCross/xfl_data_scrape/blob/main/stats_scrape.ipynb\" target=\"_parent\"><img src=\"https://colab.research.google.com/assets/colab-badge.svg\" alt=\"Open In Colab\"/></a>"
      ]
    },
    {
      "cell_type": "code",
      "source": [
        "## Imports\n",
        "import time\n",
        "from selenium import webdriver\n",
        "from selenium.webdriver.support.wait import WebDriverWait\n",
        "from selenium.webdriver.common.by import By\n",
        "from bs4 import BeautifulSoup\n",
        "import pandas as pd"
      ],
      "metadata": {
        "id": "N-udTDBbR6lN"
      },
      "execution_count": 198,
      "outputs": []
    },
    {
      "cell_type": "code",
      "source": [
        "def build_players(tbl):\n",
        "  d = {}\n",
        "  player_heading = tbl.find_all('tr')[0]\n",
        "  if player_heading.text != 'PLAYER':\n",
        "    raise RuntimeError(f\"Unexpected text found in player_heading {player_heading}\")\n",
        "  for p in tbl.find_all('tr')[1:]:\n",
        "    if team_name not in d:\n",
        "      d.update({team_name: {'TEAM': team_name, 'NUMBER': '', 'NAME': 'TEAM TOTAL'}})\n",
        "    if p.find(class_='pstats-pname-data smt-widget-sm') is not None:\n",
        "      player_id = p.attrs['data-pid']\n",
        "      if player_id not in d:\n",
        "        ## PLAYER\n",
        "        d[player_id] = {}\n",
        "        d[player_id]['TEAM'] = team_name\n",
        "        row = p.find(class_='pstats-pname-data smt-widget-sm')\n",
        "        d[player_id]['NUMBER'] = row.find('numb').text\n",
        "        d[player_id]['NAME'] = row.find('nam').text\n",
        "    ## else: continue\n",
        "  return d\n",
        "#build_players(player_name_table)"
      ],
      "metadata": {
        "id": "DK52fAtR3JeB"
      },
      "execution_count": 199,
      "outputs": []
    },
    {
      "cell_type": "code",
      "source": [
        "def build_stats(tbl, stat_type):\n",
        "  #stats = {'PLAYER_ID':[], 'TYPE':[], 'STAT':[], 'VALUE':[]}\n",
        "  plyr_lst = []\n",
        "  type_lst = []\n",
        "  stat_lst = []\n",
        "  valu_lst = []\n",
        "  for p in tbl.find_all('tr')[1:]:\n",
        "    for cell in p.children:\n",
        "      player_id = team_name if p.attrs['data-pid']=='TEAM' else p.attrs['data-pid']\n",
        "      #stats['PLAYER_ID'].append(player_id)\n",
        "      #stats['TYPE'].append(stat_type)\n",
        "      #stats['STAT'].append(cell.attrs['data-stat-column'])\n",
        "      #stats['VALUE'].append(cell.attrs['data-stat-value'])\n",
        "      plyr_lst.append(player_id)\n",
        "      type_lst.append(stat_type)\n",
        "      stat_lst.append(cell.attrs['data-stat-column'])\n",
        "      valu_lst.append(cell.attrs['data-stat-value'])\n",
        "  return plyr_lst, type_lst, stat_lst, valu_lst\n",
        "#build_stats(player_stats_table,stat_type=stat_headers[i].text)"
      ],
      "metadata": {
        "id": "yqEeAJCO4lar"
      },
      "execution_count": 200,
      "outputs": []
    },
    {
      "cell_type": "code",
      "source": [
        "## globals\n",
        "options = webdriver.ChromeOptions()\n",
        "## no-sandbox needed if running as a Linux admin\n",
        "options.add_argument(\"--no-sandbox\")\n",
        "options.add_argument(\"--disable-extensions\")\n",
        "options.add_argument(\"--headless\")\n",
        "driver = webdriver.Chrome(options=options)\n",
        "players = {}\n",
        "stats = {'PLAYER_ID':[], 'TYPE':[], 'STAT':[], 'VALUE':[]}\n",
        "\n",
        "## game loop\n",
        "try:\n",
        "  for game_id in ['2302001-VGS-at-ARL','2302002-ORL-at-HOU','2302003-STL-at-SA', '2302004-SEA-at-DC']:\n",
        "    game = f'https://api.xfl.com/game/w/PlayerGameStats?EventId={game_id}'\n",
        "    driver.get(game)\n",
        "    # Wait until stats tables have loaded\n",
        "    WebDriverWait(driver, timeout=15).until(lambda d: d.find_element(By.CSS_SELECTOR,\"div.pstats-pname-data.smt-widget-sm\"))\n",
        "    soup = BeautifulSoup(driver.page_source, \"lxml\")\n",
        "    v_team = soup.find(id=\"pstat-v-show-btn\").text\n",
        "    h_team = soup.find(id=\"pstat-h-show-btn\").text\n",
        "    for table_id in [\"pstats-v-tbls\",\"pstats-h-tbls\"]:\n",
        "      team_name = v_team if table_id==\"pstats-v-tbls\" else h_team\n",
        "      stat_headers = soup.find(id=table_id).find_all(class_=[\"smt-fnt-lg\"])\n",
        "      stat_tables = soup.find(id=table_id).find_all(class_=[\"pstats-tbl-cont\"])\n",
        "      assert len(stat_headers) == len(stat_tables),f'stat_headers ({len(stat_headers)}) != stat_tables ({len(stat_tables)})'\n",
        "      for i in range(0,len(stat_headers)):\n",
        "        player_name_table = stat_tables[i].find(class_=[\"pstats-tbl-pname\"])\n",
        "        tbl_players = build_players(player_name_table)\n",
        "        players.update(tbl_players)\n",
        "        player_stats_table = stat_tables[i].find(class_=[\"pstats-tbl-vals\"])\n",
        "        pid, typ, sta, val = build_stats(player_stats_table,stat_type=stat_headers[i].text)\n",
        "        stats['PLAYER_ID'] = stats['PLAYER_ID'] + pid\n",
        "        stats['TYPE'] = stats['TYPE'] + typ\n",
        "        stats['STAT'] = stats['STAT'] + sta\n",
        "        stats['VALUE'] = stats['VALUE'] + val\n",
        "    time.sleep(5)\n",
        "except:\n",
        "  raise\n",
        "finally:\n",
        "  ## Quit the WebDriver\n",
        "  driver.quit()"
      ],
      "metadata": {
        "id": "HYO-0S0nEFCI"
      },
      "execution_count": 201,
      "outputs": []
    },
    {
      "cell_type": "code",
      "source": [
        "pd.merge(left=pd.DataFrame.from_dict(players,orient='index'),\n",
        "         right=pd.DataFrame(stats),\n",
        "         how='left',\n",
        "         left_index=True,right_on='PLAYER_ID',\n",
        "         sort=True).reset_index(drop=True)"
      ],
      "metadata": {
        "id": "hYCJMI7cSeQ1"
      },
      "execution_count": null,
      "outputs": []
    },
    {
      "cell_type": "code",
      "source": [],
      "metadata": {
        "id": "FJMOphMzE8hX"
      },
      "execution_count": 202,
      "outputs": []
    }
  ]
}